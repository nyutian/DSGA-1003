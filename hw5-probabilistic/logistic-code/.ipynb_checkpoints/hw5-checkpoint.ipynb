{
 "cells": [
  {
   "cell_type": "code",
   "execution_count": 1,
   "metadata": {},
   "outputs": [],
   "source": [
    "import numpy as np\n",
    "def f_objective(theta, X, y, l2_param):\n",
    "    '''\n",
    "    Args:\n",
    "        theta: 1D numpy array of size num_features\n",
    "        X: 2D numpy array of size (num_instances, num_features)\n",
    "        y: 1D numpy array of size num_instances\n",
    "        l2_param: regularization parameter\n",
    "\n",
    "    Returns:\n",
    "        objective: scalar value of objective function\n",
    "    '''\n",
    "    num_ftrs=X.shape[1]\n",
    "    num_ins=X.shape[0]\n",
    "    loss=0\n",
    "    for i in range(num_ins):\n",
    "        loss+=np.logaddexp(0,-y[i]*np.dot(theta,X[i]))\n",
    "    loss=loss/num_ins\n",
    "    reg=l2_param*(np.dot(theta,theta))\n",
    "    return(loss+reg)"
   ]
  },
  {
   "cell_type": "code",
   "execution_count": 2,
   "metadata": {},
   "outputs": [],
   "source": [
    "from scipy.optimize import minimize\n",
    "from functools import partial\n",
    "def fit_logistic_reg(X, y, objective_function, l2_param):\n",
    "    '''\n",
    "    Args:\n",
    "        X: 2D numpy array of size (num_instances, num_features)\n",
    "        y: 1D numpy array of size num_instances\n",
    "        objective_function: function returning the value of the objective\n",
    "        l2_param: regularization parameter\n",
    "        \n",
    "    Returns:\n",
    "        optimal_theta: 1D numpy array of size num_features\n",
    "    '''\n",
    "    num_ftrs= X.shape[1]\n",
    "    obj_func = partial(objective_function, X = X, y=y, l2_param = l2_param)\n",
    "    w_0 = np.ones(num_ftrs) \n",
    "    w_ = minimize(obj_func, w_0).x\n",
    "    return w_"
   ]
  },
  {
   "cell_type": "code",
   "execution_count": 3,
   "metadata": {},
   "outputs": [],
   "source": [
    "with open(\"X_train.txt\") as textFile:\n",
    "    x_train = [line.split() for line in textFile]\n",
    "x_train=[[float(v) for v in r[0].split(',')] for r in x_train]\n",
    "with open(\"X_val.txt\") as textFile:\n",
    "    x_val = [line.split() for line in textFile]\n",
    "x_val=[[float(v) for v in r[0].split(',')] for r in x_val]\n",
    "with open(\"y_train.txt\") as textFile:\n",
    "    y_train = [line.split() for line in textFile]\n",
    "y_train=[[float(v) for v in r[0].split(',')] for r in y_train]\n",
    "with open(\"y_val.txt\") as textFile:\n",
    "    y_val = [line.split() for line in textFile]\n",
    "y_val=[[float(v) for v in r[0].split(',')] for r in y_val]\n",
    "x_train, x_val, y_train, y_val = np.array(x_train),np.array(x_val),np.array(y_train),np.array(y_val)"
   ]
  },
  {
   "cell_type": "code",
   "execution_count": 4,
   "metadata": {},
   "outputs": [],
   "source": [
    "from sklearn.preprocessing import StandardScaler\n",
    "SS = StandardScaler()\n",
    "X_train = SS.fit_transform(x_train)\n",
    "X_val = SS.fit_transform(x_val)\n",
    "X_train = np.hstack((X_train, np.ones((X_train.shape[0], 1))))\n",
    "X_val = np.hstack((X_val, np.ones((X_val.shape[0], 1))))\n",
    "y_train[y_train == 0] = -1\n",
    "y_val[y_val == 0] = -1"
   ]
  },
  {
   "cell_type": "code",
   "execution_count": 5,
   "metadata": {},
   "outputs": [],
   "source": [
    "theta=fit_logistic_reg(X_train, y_train, f_objective, l2_param=1)"
   ]
  },
  {
   "cell_type": "code",
   "execution_count": 6,
   "metadata": {},
   "outputs": [
    {
     "data": {
      "text/plain": [
       "array([ 0.00095626, -0.00029964,  0.00302678,  0.10532763, -0.00358738,\n",
       "       -0.00135851, -0.00385288, -0.00079011, -0.00114411, -0.07178433,\n",
       "        0.00654887, -0.00451099,  0.01124927, -0.00386442, -0.00271264,\n",
       "        0.00150364, -0.002784  , -0.00919064, -0.00682277, -0.01027486,\n",
       "        0.00281871])"
      ]
     },
     "execution_count": 6,
     "metadata": {},
     "output_type": "execute_result"
    }
   ],
   "source": [
    "theta"
   ]
  },
  {
   "cell_type": "code",
   "execution_count": 28,
   "metadata": {},
   "outputs": [],
   "source": [
    "def log_likelihood(theta,X,y): \n",
    "    num_ftrs=X.shape[1]\n",
    "    num_ins=X.shape[0]\n",
    "    loss=0\n",
    "    for i in range(num_ins):\n",
    "        loss += np.logaddexp(0,-y[i]*np.dot(theta, X[i]))\n",
    "    return(-loss)\n",
    "L2=list([10.0**i for i in np.arange(-4,2,0.5)])\n",
    "l=[]\n",
    "for l2reg in L2:\n",
    "    theta = fit_logistic_reg(X_train, y_train, f_objective, l2_param=l2reg)\n",
    "    result = log_likelihood(theta,X_val,y_val)\n",
    "    l.append(result)   "
   ]
  },
  {
   "cell_type": "code",
   "execution_count": 29,
   "metadata": {},
   "outputs": [
    {
     "data": {
      "image/png": "[encoded data removed]",
      "text/plain": [
       "<Figure size 432x288 with 1 Axes>"
      ]
     },
     "metadata": {
      "needs_background": "light"
     },
     "output_type": "display_data"
    }
   ],
   "source": [
    "import matplotlib.pyplot as plt\n",
    "log_L2 = [np.log10(i) for i in L2]\n",
    "plt.plot(log_L2,l)\n",
    "plt.show()"
   ]
  },
  {
   "cell_type": "code",
   "execution_count": 23,
   "metadata": {},
   "outputs": [
    {
     "data": {
      "image/png": "[encoded data removed]",
      "text/plain": [
       "<Figure size 432x288 with 1 Axes>"
      ]
     },
     "metadata": {
      "needs_background": "light"
     },
     "output_type": "display_data"
    }
   ],
   "source": [
    "from sklearn import datasets\n",
    "from sklearn.calibration import calibration_curve\n",
    "\n",
    "plt.plot([0, 1], [0, 1])\n",
    "n_ins, num_ftrs = X_val.shape\n",
    "theta_opt=fit_logistic_reg(X_train, y_train, f_objective, l2_param=10**(-2))\n",
    "prob_pos = np.dot(X_val,theta_opt)\n",
    "for i in range(n_ins):\n",
    "    prob_pos[i] = 1/(1+np.exp(-prob_pos[i]))\n",
    "prob_pos = (prob_pos - prob_pos.min()) / (prob_pos.max() - prob_pos.min())\n",
    "fraction_of_positives, mean_predicted_value = calibration_curve(y_val, prob_pos, n_bins=10)\n",
    "plt.plot(mean_predicted_value, fraction_of_positives, \"s-\",label=\"%s\" % ('Logistic'))\n",
    "plt.show()"
   ]
  },
  {
   "cell_type": "code",
   "execution_count": 25,
   "metadata": {},
   "outputs": [
    {
     "data": {
      "text/plain": [
       "array([ 0.01314257,  0.00387864,  0.17948618,  0.86600541, -0.04005328,\n",
       "       -0.01637582, -0.02569456, -0.0348257 , -0.06014617, -0.48010957,\n",
       "        0.08381418, -0.00764903, -0.06061063, -0.00550508, -0.00873846,\n",
       "        0.00257784, -0.01129283, -0.08432927, -0.04965382, -0.09968624,\n",
       "        0.090205  ])"
      ]
     },
     "execution_count": 25,
     "metadata": {},
     "output_type": "execute_result"
    }
   ],
   "source": [
    "theta_opt"
   ]
  },
  {
   "cell_type": "code",
   "execution_count": null,
   "metadata": {},
   "outputs": [],
   "source": []
  }
 ],
 "metadata": {
  "kernelspec": {
   "display_name": "Python 3",
   "language": "python",
   "name": "python3"
  },
  "language_info": {
   "codemirror_mode": {
    "name": "ipython",
    "version": 3
   },
   "file_extension": ".py",
   "mimetype": "text/x-python",
   "name": "python",
   "nbconvert_exporter": "python",
   "pygments_lexer": "ipython3",
   "version": "3.7.2"
  }
 },
 "nbformat": 4,
 "nbformat_minor": 2
}
