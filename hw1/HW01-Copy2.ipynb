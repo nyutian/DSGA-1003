{
 "cells": [
  {
   "cell_type": "code",
   "execution_count": 1,
   "metadata": {},
   "outputs": [],
   "source": [
    "import sys\n",
    "import numpy as np\n",
    "import pandas as pd\n",
    "import matplotlib.pyplot as plt\n",
    "from sklearn.model_selection import train_test_split"
   ]
  },
  {
   "cell_type": "markdown",
   "metadata": {},
   "source": [
    "# 3.1 Feature Normalization"
   ]
  },
  {
   "cell_type": "code",
   "execution_count": 2,
   "metadata": {},
   "outputs": [],
   "source": [
    "def feature_normalization(train, test):\n",
    "    \"\"\"Rescale the data so that each feature in the training set is in\n",
    "    the interval [0,1], and apply the same transformations to the test\n",
    "    set, using the statistics computed on the training set.\n",
    "\n",
    "    Args:\n",
    "        train - training set, a 2D numpy array of size (num_instances, num_features)\n",
    "        test - test set, a 2D numpy array of size (num_instances, num_features)\n",
    "\n",
    "    Returns:\n",
    "        train_normalized - training set after normalization\n",
    "        test_normalized - test set after normalization\n",
    "    \"\"\"\n",
    "    train = pd.DataFrame(train)\n",
    "    test = pd.DataFrame(test)\n",
    "    for col in train.columns:\n",
    "        if train[col].nunique() != 1:\n",
    "            min_col = min(train[col])\n",
    "            dif_col = max(train[col])-min(train[col])\n",
    "            train[col] = (train[col]-min(train[col]))/(max(train[col])-min(train[col]))\n",
    "            test[col] = (test[col] - min_col)/dif_col\n",
    "    return train,test"
   ]
  },
  {
   "cell_type": "code",
   "execution_count": null,
   "metadata": {},
   "outputs": [],
   "source": [
    "# data = pd.read_csv('data.csv')\n",
    "# data.head()\n",
    "\n",
    "# X = data.drop('y',1)\n",
    "# Y = data['y']\n",
    "\n",
    "# X_train,X_test,Y_train,Y_test = train_test_split(X,Y, test_size = 0.15)"
   ]
  },
  {
   "cell_type": "code",
   "execution_count": null,
   "metadata": {},
   "outputs": [],
   "source": [
    "def main():\n",
    "    #Loading the dataset\n",
    "    print('loading the dataset')\n",
    "\n",
    "    df = pd.read_csv('data.csv', delimiter=',')\n",
    "    X = df.values[:,:-1]\n",
    "    y = df.values[:,-1]\n",
    "\n",
    "    print('Split into Train and Test')\n",
    "    X_train, X_test, y_train, y_test = train_test_split(X, y, test_size =100, random_state=10)\n",
    "\n",
    "    print(\"Scaling all to [0, 1]\")\n",
    "    X_train, X_test = feature_normalization(X_train, X_test)\n",
    "    X_train = np.hstack((X_train, np.ones((X_train.shape[0], 1))))  # Add bias term\n",
    "    X_test = np.hstack((X_test, np.ones((X_test.shape[0], 1))))  # Add bias term\n",
    "    # TODO\n",
    "\n",
    "# if __name__ == \"__main__\":\n",
    "#     main()"
   ]
  },
  {
   "cell_type": "code",
   "execution_count": 3,
   "metadata": {},
   "outputs": [
    {
     "name": "stdout",
     "output_type": "stream",
     "text": [
      "loading the dataset\n",
      "Split into Train and Test\n",
      "Scaling all to [0, 1]\n"
     ]
    }
   ],
   "source": [
    "\n",
    "    #Loading the dataset\n",
    "print('loading the dataset')\n",
    "\n",
    "df = pd.read_csv('data.csv', delimiter=',')\n",
    "X = df.values[:,:-1]\n",
    "y = df.values[:,-1]\n",
    "\n",
    "print('Split into Train and Test')\n",
    "X_train, X_test, y_train, y_test = train_test_split(X, y, test_size =100, random_state=10)\n",
    "\n",
    "print(\"Scaling all to [0, 1]\")\n",
    "X_train, X_test = feature_normalization(X_train, X_test)\n",
    "X_train = np.hstack((X_train, np.ones((X_train.shape[0], 1))))  # Add bias term\n",
    "X_test = np.hstack((X_test, np.ones((X_test.shape[0], 1))))  # Add bias term\n",
    "# X_train = pd.DataFrame(X_train)\n",
    "# X_test = pd.DataFrame(X_test)\n",
    "# y_train = pd.DataFrame(y_train)\n",
    "# y_test = pd.DataFrame(y_test)\n",
    "    # TODO\n",
    "\n",
    "# if __name__ == \"__main__\":\n",
    "#     main()"
   ]
  },
  {
   "cell_type": "markdown",
   "metadata": {},
   "source": [
    "# 3.2 Gradient Descent Setup"
   ]
  },
  {
   "cell_type": "code",
   "execution_count": 4,
   "metadata": {},
   "outputs": [],
   "source": [
    "def compute_square_loss(X, y, theta):\n",
    "    \"\"\"\n",
    "    Given a set of X, y, theta, compute the average square loss for predicting y with X*theta.\n",
    "\n",
    "    Args:\n",
    "        X - the feature vector, 2D numpy array of size (num_instances, num_features)\n",
    "        y - the label vector, 1D numpy array of size (num_instances)\n",
    "        theta - the parameter vector, 1D array of size (num_features)\n",
    "\n",
    "    Returns:\n",
    "        loss - the average square loss, scalar\n",
    "    \"\"\"\n",
    "    loss = 0 #Initialize the average square loss\n",
    "    m = X.shape[0]\n",
    "    diff = np.dot(X,theta)-y\n",
    "    loss = 1/m*np.dot(diff,diff)\n",
    "    return loss\n",
    "    "
   ]
  },
  {
   "cell_type": "code",
   "execution_count": 5,
   "metadata": {},
   "outputs": [],
   "source": [
    "def compute_square_loss_gradient(X, y, theta):\n",
    "    \"\"\"\n",
    "    Compute the gradient of the average square loss (as defined in compute_square_loss), at the point theta.\n",
    "\n",
    "    Args:\n",
    "        X - the feature vector, 2D numpy array of size (num_instances, num_features)\n",
    "        y - the label vector, 1D numpy array of size (num_instances)\n",
    "        theta - the parameter vector, 1D numpy array of size (num_features)\n",
    "\n",
    "    Returns:\n",
    "        grad - gradient vector, 1D numpy array of size (num_features)\n",
    "    \"\"\"\n",
    "    m = X.shape[0]\n",
    "    diff = np.dot(X,theta)-y\n",
    "    grad = 2/m*np.dot(diff,X)\n",
    "    return grad"
   ]
  },
  {
   "cell_type": "markdown",
   "metadata": {},
   "source": [
    "# 3.4 Batch Gradient Descent"
   ]
  },
  {
   "cell_type": "code",
   "execution_count": 6,
   "metadata": {},
   "outputs": [],
   "source": [
    "def batch_grad_descent(X, y, alpha=0.1, num_step=1000, grad_check=False):\n",
    "    \"\"\"\n",
    "    In this question you will implement batch gradient descent to\n",
    "    minimize the average square loss objective.\n",
    "\n",
    "    Args:\n",
    "        X - the feature vector, 2D numpy array of size (num_instances, num_features)\n",
    "        y - the label vector, 1D numpy array of size (num_instances)\n",
    "        alpha - step size in gradient descent\n",
    "        num_step - number of steps to run\n",
    "        grad_check - a boolean value indicating whether checking the gradient when updating\n",
    "\n",
    "    Returns:XXX\n",
    "        theta_hist - the history of parameter vector, 2D numpy array of size (num_step+1, num_features)\n",
    "                     for instance, theta in step 0 should be theta_hist[0], theta in step (num_step) is theta_hist[-1]\n",
    "        loss_hist - the history of average square loss on the data, 1D numpy array, (num_step+1)\n",
    "    \"\"\"\n",
    "    num_instances, num_features = X.shape[0], X.shape[1]\n",
    "    theta_hist = np.zeros((num_step+1, num_features)) #Initialize theta_hist\n",
    "    loss_hist = np.zeros(num_step+1) #Initialize loss_hist\n",
    "    theta = np.zeros(num_features) #Initialize theta\n",
    "    for i in range(num_step+1):\n",
    "        if grad_check:\n",
    "            if i ==0:\n",
    "                #theta+= 1\n",
    "                theta_hist[i] = theta\n",
    "                loss_hist[i] = compute_square_loss(X, y, theta)\n",
    "            else:\n",
    "                gradient = compute_square_loss_gradient(X, y, theta)\n",
    "                theta = theta - alpha*gradient.T\n",
    "                theta_hist[i] = theta\n",
    "                loss_hist[i] = compute_square_loss(X, y, theta)\n",
    "    return theta_hist,loss_hist\n",
    "        \n",
    "            "
   ]
  },
  {
   "cell_type": "code",
   "execution_count": 7,
   "metadata": {},
   "outputs": [
    {
     "name": "stdout",
     "output_type": "stream",
     "text": [
      "[7.96151834 7.91242197 7.87772357 ... 2.78748976 2.78647298 2.78545842]\n"
     ]
    }
   ],
   "source": [
    "theta001,loss001 = batch_grad_descent(X_train, y_train, alpha=0.01, num_step=1000, grad_check=True)\n",
    "print(loss001)"
   ]
  },
  {
   "cell_type": "code",
   "execution_count": 8,
   "metadata": {},
   "outputs": [
    {
     "name": "stdout",
     "output_type": "stream",
     "text": [
      "[7.96151834 7.82651953 7.70376849 ... 2.0780049  2.07785195 2.07769937]\n"
     ]
    }
   ],
   "source": [
    "theta005,loss005 = batch_grad_descent(X_train, y_train, alpha=0.05, num_step=1000, grad_check=True)\n",
    "print(loss005)"
   ]
  },
  {
   "cell_type": "code",
   "execution_count": 9,
   "metadata": {},
   "outputs": [
    {
     "name": "stdout",
     "output_type": "stream",
     "text": [
      "[ 7.96151834  7.96772837 10.08387334 ...         nan         nan\n",
      "         nan]\n"
     ]
    }
   ],
   "source": [
    "theta01,loss01 = batch_grad_descent(X_train, y_train, alpha=0.1, num_step=1000, grad_check=True)\n",
    "print(loss01)"
   ]
  },
  {
   "cell_type": "code",
   "execution_count": 10,
   "metadata": {},
   "outputs": [
    {
     "name": "stdout",
     "output_type": "stream",
     "text": [
      "[   7.96151834   19.04087477 4294.50999069 ...           nan           nan\n",
      "           nan]\n"
     ]
    }
   ],
   "source": [
    "theta05,loss05 = batch_grad_descent(X_train, y_train, alpha=0.5, num_step=1000, grad_check=True)\n",
    "print(loss05)"
   ]
  },
  {
   "cell_type": "code",
   "execution_count": 11,
   "metadata": {},
   "outputs": [
    {
     "data": {
      "text/plain": [
       "<matplotlib.legend.Legend at 0x114762710>"
      ]
     },
     "execution_count": 11,
     "metadata": {},
     "output_type": "execute_result"
    },
    {
     "data": {
      "image/png": "[encoded data removed]",
      "text/plain": [
       "<Figure size 432x288 with 1 Axes>"
      ]
     },
     "metadata": {},
     "output_type": "display_data"
    }
   ],
   "source": [
    "import matplotlib.pyplot as plt\n",
    "%matplotlib inline\n",
    "plt.plot(range(len(loss001)),loss001,label = \"alpha = 0.01\")\n",
    "plt.plot(range(len(loss005)),loss005,label = \"alpha = 0.05\")\n",
    "plt.legend()"
   ]
  },
  {
   "cell_type": "code",
   "execution_count": 12,
   "metadata": {},
   "outputs": [
    {
     "data": {
      "text/plain": [
       "<matplotlib.legend.Legend at 0x1147cb588>"
      ]
     },
     "execution_count": 12,
     "metadata": {},
     "output_type": "execute_result"
    },
    {
     "data": {
      "image/png": "[encoded data removed]",
      "text/plain": [
       "<Figure size 432x288 with 1 Axes>"
      ]
     },
     "metadata": {},
     "output_type": "display_data"
    }
   ],
   "source": [
    "plt.plot(range(len(loss01)),np.log(loss01),label = \"alpha = 0.1\",color = 'r')\n",
    "plt.plot(range(len(loss05)),np.log(loss05),label = \"alpha = 0.5\",color = 'g')\n",
    "plt.legend()"
   ]
  },
  {
   "cell_type": "markdown",
   "metadata": {},
   "source": [
    "Findings: when step sizes get larger, average square loss decreases faster. When the step size is large to some degree, the step size is too large for the given dataset and the gradient diverges. Here in this case, when alpha=0.1, the gradient diverges. "
   ]
  },
  {
   "cell_type": "markdown",
   "metadata": {},
   "source": [
    "# 3.5 Ridge Regression"
   ]
  },
  {
   "cell_type": "code",
   "execution_count": 13,
   "metadata": {},
   "outputs": [],
   "source": [
    "def compute_regularized_square_loss_gradient(X, y, theta, lambda_reg):\n",
    "    \"\"\"\n",
    "    Compute the gradient of L2-regularized average square loss function given X, y and theta\n",
    "\n",
    "    Args:\n",
    "        X - the feature vector, 2D numpy array of size (num_instances, num_features)\n",
    "        y - the label vector, 1D numpy array of size (num_instances)\n",
    "        theta - the parameter vector, 1D numpy array of size (num_features)\n",
    "        lambda_reg - the regularization coefficient\n",
    "\n",
    "    Returns:\n",
    "        grad - gradient vector, 1D numpy array of size (num_features)\n",
    "    \"\"\"\n",
    "    ori_grad = compute_square_loss_gradient(X, y, theta)\n",
    "    grad = ori_grad + 2*lambda_reg*theta\n",
    "    return grad"
   ]
  },
  {
   "cell_type": "code",
   "execution_count": 14,
   "metadata": {},
   "outputs": [],
   "source": [
    "def regularized_grad_descent(X, y, alpha=0.05, lambda_reg=10**-2, num_step=1000):\n",
    "    \"\"\"\n",
    "    Args:\n",
    "        X - the feature vector, 2D numpy array of size (num_instances, num_features)\n",
    "        y - the label vector, 1D numpy array of size (num_instances)\n",
    "        alpha - step size in gradient descent\n",
    "        lambda_reg - the regularization coefficient\n",
    "        num_step - number of steps to run\n",
    "    \n",
    "    Returns:\n",
    "        theta_hist - the history of parameter vector, 2D numpy array of size (num_step+1, num_features)\n",
    "                     for instance, theta in step 0 should be theta_hist[0], theta in step (num_step+1) is theta_hist[-1]\n",
    "        loss hist - the history of average square loss function without the regularization term, 1D numpy array.\n",
    "    \"\"\"\n",
    "    num_instances, num_features = X.shape[0], X.shape[1]\n",
    "    theta = np.zeros(num_features) #Initialize theta\n",
    "    theta_hist = np.zeros((num_step+1, num_features)) #Initialize theta_hist\n",
    "    loss_hist = np.zeros(num_step+1) #Initialize loss_hist\n",
    "    for i in range(num_step+1):\n",
    "        if i ==0:\n",
    "            #theta+= 1\n",
    "            theta_hist[i] = theta\n",
    "            loss_hist[i] = compute_square_loss(X, y, theta)\n",
    "        else:\n",
    "            gradient = compute_regularized_square_loss_gradient(X, y, theta, lambda_reg)\n",
    "            theta = theta - alpha*gradient.T\n",
    "            theta_hist[i] = theta\n",
    "            loss_hist[i] = compute_square_loss(X, y, theta)\n",
    "    return theta_hist,loss_hist"
   ]
  },
  {
   "cell_type": "code",
   "execution_count": 15,
   "metadata": {},
   "outputs": [
    {
     "name": "stdout",
     "output_type": "stream",
     "text": [
      "2.0776994945532925\n",
      "2.077700614426301\n",
      "2.077711814283324\n",
      "2.077823925495229\n",
      "2.0789562494384244\n",
      "2.0913500007595975\n",
      "2.2847146705114056\n",
      "4.245811582850459\n"
     ]
    },
    {
     "data": {
      "text/plain": [
       "<matplotlib.legend.Legend at 0x1148d7cf8>"
      ]
     },
     "execution_count": 15,
     "metadata": {},
     "output_type": "execute_result"
    },
    {
     "data": {
      "image/png": "[encoded data removed]",
      "text/plain": [
       "<Figure size 432x288 with 1 Axes>"
      ]
     },
     "metadata": {},
     "output_type": "display_data"
    }
   ],
   "source": [
    "loss_list = []\n",
    "loss_test_list = []\n",
    "lambda_reg1 = [-8,-7,-6,-5,-4,-3,-2,-1]\n",
    "for lambda_reg in [-8,-7,-6,-5,-4,-3,-2,-1]:\n",
    "    theta_reg,loss_reg = regularized_grad_descent(X_train, y_train, alpha=0.05, lambda_reg=10**lambda_reg, num_step=1000)\n",
    "    loss_list.append(loss_reg[-1])\n",
    "    loss_test = compute_square_loss(X_test,y_test,theta_reg[-1])\n",
    "    loss_test_list.append(loss_test)\n",
    "    print(loss_reg[-1])\n",
    "#     plt.scatter(lambda_reg,loss_reg[-1])\n",
    "plt.plot(lambda_reg1,loss_list,label = 'trainging')\n",
    "plt.plot(lambda_reg1,loss_test_list,label = 'testing')\n",
    "plt.legend()"
   ]
  },
  {
   "cell_type": "code",
   "execution_count": null,
   "metadata": {},
   "outputs": [],
   "source": [
    "# for lambda_reg in [-7,-5,-3,-1,0,1,2]:\n",
    "#     theta_reg,loss_reg = regularized_grad_descent(X_train, y_train, alpha=0.05, lambda_reg=10**lambda_reg, num_step=10)\n",
    "#     print(loss_reg)\n",
    "#     plt.plot(range(len(loss_reg)),np.log(loss_reg),label = \"lambda = %0.7f\"%(10**lambda_reg))\n",
    "# plt.legend()"
   ]
  },
  {
   "cell_type": "code",
   "execution_count": null,
   "metadata": {},
   "outputs": [],
   "source": [
    "# for lambda_reg in [-7,-5,-3,-1,0]:\n",
    "#     theta_reg,loss_reg = regularized_grad_descent(X_train, y_train, alpha=0.05, lambda_reg=10**lambda_reg, num_step=10)\n",
    "#     print(loss_reg)\n",
    "#     plt.plot(range(len(loss_reg)),np.log(loss_reg),label = \"lambda = %0.7f\"%(10**lambda_reg))\n",
    "# plt.legend()"
   ]
  },
  {
   "cell_type": "code",
   "execution_count": null,
   "metadata": {},
   "outputs": [],
   "source": [
    "\n",
    "# theta_reg_7,loss_reg_7 = regularized_grad_descent(X_train, y_train, alpha=0.05, lambda_reg=10**(-7), num_step=1000)\n",
    "# print(loss_reg_7)"
   ]
  },
  {
   "cell_type": "code",
   "execution_count": null,
   "metadata": {},
   "outputs": [],
   "source": [
    "# theta_reg_5,loss_reg_5 = regularized_grad_descent(X_train, y_train, alpha=0.05, lambda_reg=10**(-5), num_step=1000)\n",
    "# print(loss_reg_5)"
   ]
  },
  {
   "cell_type": "code",
   "execution_count": null,
   "metadata": {},
   "outputs": [],
   "source": [
    "# theta_reg_3,loss_reg_3 = regularized_grad_descent(X_train, y_train, alpha=0.05, lambda_reg=10**(-3), num_step=1000)\n",
    "# print(loss_reg_3)"
   ]
  },
  {
   "cell_type": "code",
   "execution_count": null,
   "metadata": {},
   "outputs": [],
   "source": [
    "# theta_reg_1,loss_reg_1 = regularized_grad_descent(X_train, y_train, alpha=0.05, lambda_reg=10**(-1), num_step=1000)\n",
    "# print(loss_reg_1)"
   ]
  },
  {
   "cell_type": "code",
   "execution_count": null,
   "metadata": {},
   "outputs": [],
   "source": [
    "# theta_reg_0,loss_reg_0 = regularized_grad_descent(X_train, y_train, alpha=0.05, lambda_reg=10**(-0), num_step=1000)\n",
    "# print(loss_reg_0)"
   ]
  },
  {
   "cell_type": "code",
   "execution_count": null,
   "metadata": {},
   "outputs": [],
   "source": [
    "# plt.plot(range(len(loss_reg_7)),np.log(loss_reg_7),label = \"lambda = 10**(-7)\")\n",
    "# plt.plot(range(len(loss_reg_5)),np.log(loss_reg_5),label = \"lambda = 10**(-5)\")\n",
    "# plt.plot(range(len(loss_reg_3)),np.log(loss_reg_3),label = \"lambda = 10**(-3)\")\n",
    "# plt.plot(range(len(loss_reg_1)),np.log(loss_reg_1),label = \"lambda = 10**(-1)\")\n",
    "# plt.plot(range(len(loss_reg_0)),np.log(loss_reg_0),label = \"lambda = 1\")\n",
    "# plt.legend()"
   ]
  },
  {
   "cell_type": "code",
   "execution_count": null,
   "metadata": {},
   "outputs": [],
   "source": [
    "# plt.plot(range(len(loss_reg_7)),np.log(loss_test_7),label = \"lambda = 10**(-7)\")\n",
    "# plt.plot(range(len(loss_reg_5)),np.log(loss_test_5),label = \"lambda = 10**(-5)\")\n",
    "# plt.plot(range(len(loss_reg_3)),np.log(loss_test_3),label = \"lambda = 10**(-3)\")\n",
    "# plt.plot(range(len(loss_reg_1)),np.log(loss_test_1),label = \"lambda = 10**(-1)\")\n",
    "# plt.plot(range(len(loss_reg_0)),np.log(loss_test_0),label = \"lambda = 1\")\n",
    "# plt.legend()"
   ]
  },
  {
   "cell_type": "code",
   "execution_count": null,
   "metadata": {},
   "outputs": [],
   "source": [
    "# plt.plot(np.log(range(len(loss_reg_7))),np.log(loss_test_7),label = \"lambda = 10**(-7)\")\n",
    "# plt.plot(np.log(range(len(loss_reg_5))),np.log(loss_test_5),label = \"lambda = 10**(-5)\")\n",
    "# plt.plot(np.log(range(len(loss_reg_3))),np.log(loss_test_3),label = \"lambda = 10**(-3)\")\n",
    "# plt.plot(np.log(range(len(loss_reg_1))),np.log(loss_test_1),label = \"lambda = 10**(-1)\")\n",
    "# plt.plot(np.log(range(len(loss_reg_0))),np.log(loss_test_0),label = \"lambda = 1\")\n",
    "# plt.legend()"
   ]
  },
  {
   "cell_type": "markdown",
   "metadata": {},
   "source": [
    "I will choose 10**(-2) because the loss on test set is also the smallest"
   ]
  },
  {
   "cell_type": "markdown",
   "metadata": {},
   "source": [
    "# 3.6 Stochastic Gradient Descent"
   ]
  },
  {
   "cell_type": "code",
   "execution_count": 28,
   "metadata": {},
   "outputs": [],
   "source": [
    "from random import shuffle\n",
    "def stochastic_grad_descent(X, y, alpha=0.01, lambda_reg=10**-2, num_epoch=1000,c = 0.1):\n",
    "    \"\"\"\n",
    "    In this question you will implement stochastic gradient descent with regularization term\n",
    "\n",
    "    Args:\n",
    "        X - the feature vector, 2D numpy array of size (num_instances, num_features)\n",
    "        y - the label vector, 1D numpy array of size (num_instances)\n",
    "        alpha - string or float, step size in gradient descent\n",
    "                NOTE: In SGD, it's not a good idea to use a fixed step size. Usually it's set to 1/sqrt(t) or 1/t\n",
    "                if alpha is a float, then the step size in every step is the float.\n",
    "                if alpha == \"1/sqrt(t)\", alpha = 1/sqrt(t).\n",
    "                if alpha == \"1/t\", alpha = 1/t.\n",
    "        lambda_reg - the regularization coefficient\n",
    "        num_epoch - number of epochs to go through the whole training set\n",
    "\n",
    "    Returns:\n",
    "        theta_hist - the history of parameter vector, 3D numpy array of size (num_epoch, num_instances, num_features)\n",
    "                     for instance, theta in epoch 0 should be theta_hist[0], theta in epoch (num_epoch) is theta_hist[-1]\n",
    "        loss hist - the history of loss function vector, 2D numpy array of size (num_epoch, num_instances)\n",
    "    \"\"\"\n",
    "    num_instances, num_features = X.shape[0], X.shape[1]\n",
    "    theta = np.ones(num_features) #Initialize theta\n",
    "\n",
    "    theta_hist = np.zeros((num_epoch, num_instances, num_features)) #Initialize theta_hist\n",
    "    loss_hist = np.zeros((num_epoch, num_instances)) #Initialize loss_hist\n",
    "    \n",
    "    idx = np.arange(num_instances)\n",
    "    shuffle(idx)\n",
    "    X = X[idx]\n",
    "    y = y[idx]\n",
    "    \n",
    "    for i in range(num_epoch):\n",
    "#         if i ==0:\n",
    "#             theta_hist[0][0]= i\n",
    "#             theta_hist[0][1] = theta\n",
    "#             loss_hist[0][0] = i\n",
    "#             loss_hist[0][1] = compute_square_loss(X, y, theta)\n",
    "#         else:\n",
    "        for j in range(num_instances):\n",
    "            if alpha == \"1/sqrt(t)\":\n",
    "                alpha = c/np.sqrt(i*num_instance+j+1)\n",
    "            elif alpha == \"1/t\":\n",
    "                alpha = c/(i*num_instance+j+1)\n",
    "        #randomly choose training point\n",
    "            #x_train,x_test,y_train,y_test = train_test_split(X,y, test_size = 0.55)\n",
    "            #x_train,x_test = feature_normalization(x_train,x_test)\n",
    "        #calculation\n",
    "            theta_hist[i][j] = theta\n",
    "            \n",
    "#             diff = np.dot(X[j],theta)-y[j]\n",
    "#             loss_hist[i][j] = np.dot(diff,diff)+lambda_reg*np.dot(theta,theta)\n",
    "\n",
    "            gradient = compute_regularized_square_loss_gradient(X[j], y[j], theta, lambda_reg)\n",
    "#             theta = theta - alpha*2*(np.dot(diff,X[j])+lambda_reg*theta)\n",
    "            loss_hist[i][j]= compute_square_loss(X, y, theta)+lambda_reg*np.dot(theta,theta)\n",
    "            theta = theta - alpha*gradient.T\n",
    "    return theta_hist,loss_hist"
   ]
  },
  {
   "cell_type": "code",
   "execution_count": 22,
   "metadata": {},
   "outputs": [],
   "source": [
    "from random import shuffle\n",
    "def stochastic_grad_descent(X, y, alpha=0.01, lambda_reg=10**-2, num_epoch=1000,c = 0.1):\n",
    "    \"\"\"\n",
    "    In this question you will implement stochastic gradient descent with regularization term\n",
    "\n",
    "    Args:\n",
    "        X - the feature vector, 2D numpy array of size (num_instances, num_features)\n",
    "        y - the label vector, 1D numpy array of size (num_instances)\n",
    "        alpha - string or float, step size in gradient descent\n",
    "                NOTE: In SGD, it's not a good idea to use a fixed step size. Usually it's set to 1/sqrt(t) or 1/t\n",
    "                if alpha is a float, then the step size in every step is the float.\n",
    "                if alpha == \"1/sqrt(t)\", alpha = 1/sqrt(t).\n",
    "                if alpha == \"1/t\", alpha = 1/t.\n",
    "        lambda_reg - the regularization coefficient\n",
    "        num_epoch - number of epochs to go through the whole training set\n",
    "\n",
    "    Returns:\n",
    "        theta_hist - the history of parameter vector, 3D numpy array of size (num_epoch, num_instances, num_features)\n",
    "                     for instance, theta in epoch 0 should be theta_hist[0], theta in epoch (num_epoch) is theta_hist[-1]\n",
    "        loss hist - the history of loss function vector, 2D numpy array of size (num_epoch, num_instances)\n",
    "    \"\"\"\n",
    "    num_instances, num_features = X.shape[0], X.shape[1]\n",
    "    theta = np.ones(num_features) #Initialize theta\n",
    "\n",
    "    theta_hist = np.zeros((num_epoch, num_instances, num_features)) #Initialize theta_hist\n",
    "    loss_hist = np.zeros((num_epoch, num_instances)) #Initialize loss_hist\n",
    "    \n",
    "    idx = np.arange(num_instances)\n",
    "    shuffle(idx)\n",
    "    X = X[idx]\n",
    "    y = y[idx]\n",
    "    step_size =0\n",
    "    for i in range(num_epoch):\n",
    "        f_j=0\n",
    "#         if i ==0:\n",
    "#             theta_hist[0][0]= i\n",
    "#             theta_hist[0][1] = theta\n",
    "#             loss_hist[0][0] = i\n",
    "#             loss_hist[0][1] = compute_square_loss(X, y, theta)\n",
    "#         else:\n",
    "        for j in range(num_instances):\n",
    "            if alpha == \"1/sqrt(t)\":\n",
    "                step_size = c/np.sqrt(i*num_instance+j+1)\n",
    "            elif alpha == \"1/t\":\n",
    "                step_size = c/(i*num_instance+j+1)\n",
    "            else:\n",
    "                step_size = alpha\n",
    "        #randomly choose training point\n",
    "            #x_train,x_test,y_train,y_test = train_test_split(X,y, test_size = 0.55)\n",
    "            #x_train,x_test = feature_normalization(x_train,x_test)\n",
    "        #calculation\n",
    "            theta_hist[i][j] = theta\n",
    "            \n",
    "            diff = np.dot(X[j],theta)-y[j]\n",
    "            f_j += np.dot(diff,diff)+lambda_reg*np.dot(theta,theta)\n",
    "            loss_hist[i][j] = f_j\n",
    "#             gradient = compute_regularized_square_loss_gradient(X[j], y[j], theta, lambda_reg)\n",
    "            theta = theta - step_size*2*(np.dot(diff,X[j])+lambda_reg*theta)\n",
    "#             loss_hist[i][j]= compute_square_loss(X[j], y[j], theta)+lambda_reg*np.dot(theta,theta)\n",
    "#             theta = theta - alpha*gradient.T\n",
    "    return theta_hist,loss_hist"
   ]
  },
  {
   "cell_type": "markdown",
   "metadata": {},
   "source": [
    "Fixed steps:"
   ]
  },
  {
   "cell_type": "code",
   "execution_count": 29,
   "metadata": {},
   "outputs": [
    {
     "name": "stdout",
     "output_type": "stream",
     "text": [
      "[[883.35852205 863.75448914 806.24592715 ...   8.57718863   8.41142151\n",
      "    8.48618156]\n",
      " [  8.3717635    8.37860081   8.33249128 ...   7.60977809   7.55801091\n",
      "    7.57457254]\n",
      " [  7.55816914   7.55929816   7.54566487 ...   7.31252449   7.25507415\n",
      "    7.27407361]\n",
      " ...\n",
      " [  6.49144883   6.48739224   6.45468971 ...   6.54137296   6.45151406\n",
      "    6.48136906]\n",
      " [  6.49144883   6.48739224   6.45468971 ...   6.54137296   6.45151406\n",
      "    6.48136906]\n",
      " [  6.49144883   6.48739224   6.45468971 ...   6.54137296   6.45151406\n",
      "    6.48136906]]\n",
      "[[883.35852205 876.7849229  871.1115245  ... 398.81305121 392.45625158\n",
      "  389.86625852]\n",
      " [389.77283435 387.36151044 384.8959319  ... 178.85838578 175.8715627\n",
      "  174.65230952]\n",
      " [174.61336246 173.86008397 172.78871052 ...  82.85419035  81.40963808\n",
      "   80.81792245]\n",
      " ...\n",
      " [  6.42576197   6.4263051    6.42610146 ...   6.42728497   6.42610834\n",
      "    6.42557831]\n",
      " [  6.42576185   6.42630499   6.42610134 ...   6.42728485   6.42610822\n",
      "    6.42557819]\n",
      " [  6.42576173   6.42630487   6.42610123 ...   6.42728474   6.4261081\n",
      "    6.42557808]]\n"
     ]
    },
    {
     "data": {
      "text/plain": [
       "<matplotlib.legend.Legend at 0x115275e48>"
      ]
     },
     "execution_count": 29,
     "metadata": {},
     "output_type": "execute_result"
    },
    {
     "data": {
      "image/png": "[encoded data removed]",
      "text/plain": [
       "<Figure size 432x288 with 1 Axes>"
      ]
     },
     "metadata": {},
     "output_type": "display_data"
    }
   ],
   "source": [
    "for step in [0.05,0.005]:\n",
    "    theta_SGD,loss_SGD = stochastic_grad_descent(X_train, y_train, alpha=step, lambda_reg=10**-2, num_epoch=1000)\n",
    "    plt.plot(range(len(loss_SGD)),loss_SGD.T[X_train.shape[0]-1],label = 'alpha = %0.4f'%step)\n",
    "#     plt.plot(range(len(loss_SGD)),np.average(loss_SGD.T,axis = 0),label = 'alpha = %0.4f'%step)\n",
    "    print(loss_SGD)\n",
    "plt.legend()"
   ]
  },
  {
   "cell_type": "markdown",
   "metadata": {},
   "source": [
    "Step size decreases:"
   ]
  },
  {
   "cell_type": "code",
   "execution_count": 20,
   "metadata": {},
   "outputs": [
    {
     "data": {
      "text/plain": [
       "<matplotlib.legend.Legend at 0x11a76ceb8>"
      ]
     },
     "execution_count": 20,
     "metadata": {},
     "output_type": "execute_result"
    },
    {
     "data": {
      "image/png": "[encoded data removed]",
      "text/plain": [
       "<Figure size 432x288 with 1 Axes>"
      ]
     },
     "metadata": {},
     "output_type": "display_data"
    }
   ],
   "source": [
    "for i in [-4,-3,-2,-1]:\n",
    "    theta_SGDD,loss_SGDD = stochastic_grad_descent(X_train, y_train, alpha='1/sqrt(t)', lambda_reg=10**-2, num_epoch=1000,c = 10**i)\n",
    "    plt.plot(range(len(loss_SGDD)),loss_SGDD.T[X_train.shape[0]-1],label = 'alpha = %0.4f'% i) \n",
    "plt.legend()"
   ]
  },
  {
   "cell_type": "code",
   "execution_count": null,
   "metadata": {},
   "outputs": [],
   "source": []
  }
 ],
 "metadata": {
  "kernelspec": {
   "display_name": "Python 3",
   "language": "python",
   "name": "python3"
  },
  "language_info": {
   "codemirror_mode": {
    "name": "ipython",
    "version": 3
   },
   "file_extension": ".py",
   "mimetype": "text/x-python",
   "name": "python",
   "nbconvert_exporter": "python",
   "pygments_lexer": "ipython3",
   "version": "3.6.5"
  }
 },
 "nbformat": 4,
 "nbformat_minor": 2
}
