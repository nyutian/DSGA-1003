{
 "cells": [
  {
   "cell_type": "code",
   "execution_count": 2,
   "metadata": {},
   "outputs": [],
   "source": [
    "import sys\n",
    "import numpy as np\n",
    "import pandas as pd\n",
    "import matplotlib.pyplot as plt\n",
    "from sklearn.model_selection import train_test_split"
   ]
  },
  {
   "cell_type": "code",
   "execution_count": 3,
   "metadata": {},
   "outputs": [],
   "source": [
    "def feature_normalization(train, test):\n",
    "    \"\"\"Rescale the data so that each feature in the training set is in\n",
    "    the interval [0,1], and apply the same transformations to the test\n",
    "    set, using the statistics computed on the training set.\n",
    "\n",
    "    Args:\n",
    "        train - training set, a 2D numpy array of size (num_instances, num_features)\n",
    "        test - test set, a 2D numpy array of size (num_instances, num_features)\n",
    "\n",
    "    Returns:\n",
    "        train_normalized - training set after normalization\n",
    "        test_normalized - test set after normalization\n",
    "    \"\"\"\n",
    "    feature_max=np.amax(train, axis=0)\n",
    "    feature_min=np.amin(train, axis=0)\n",
    "    diff=feature_max-feature_min\n",
    "    index=np.where(diff == 0)[0]\n",
    "    train_new=np.delete(train, index, axis=1)\n",
    "    test_new=np.delete(test, index, axis=1)\n",
    "    feature_max_new=np.amax(train_new, axis=0)\n",
    "    feature_min_new=np.amin(train_new, axis=0)\n",
    "    train_normalized, test_normalized = (train_new-feature_min_new)/(feature_max_new-feature_min_new), (test_new-feature_min_new)/(feature_max_new-feature_min_new)\n",
    "    return train_normalized, test_normalized"
   ]
  },
  {
   "cell_type": "code",
   "execution_count": 4,
   "metadata": {},
   "outputs": [
    {
     "name": "stdout",
     "output_type": "stream",
     "text": [
      "loading the dataset\n",
      "Split into Train and Test\n",
      "Scaling all to [0, 1]\n"
     ]
    }
   ],
   "source": [
    "print('loading the dataset')\n",
    "\n",
    "df = pd.read_csv('data.csv', delimiter=',')\n",
    "X = df.values[:,:-1]\n",
    "y = df.values[:,-1]\n",
    "\n",
    "print('Split into Train and Test')\n",
    "X_train, X_test, y_train, y_test = train_test_split(X, y, test_size =100, random_state=10)\n",
    "\n",
    "print(\"Scaling all to [0, 1]\")\n",
    "X_train, X_test = feature_normalization(X_train, X_test)\n",
    "# X_train = np.hstack((X_train, np.ones((X_train.shape[0], 1))))  # Add bias term\n",
    "# X_test = np.hstack((X_test, np.ones((X_test.shape[0], 1))))  # Add bias term"
   ]
  },
  {
   "cell_type": "code",
   "execution_count": null,
   "metadata": {},
   "outputs": [],
   "source": []
  },
  {
   "cell_type": "code",
   "execution_count": 5,
   "metadata": {},
   "outputs": [
    {
     "data": {
      "text/plain": [
       "array([[1.        , 1.        , 1.        , ..., 0.13241261, 0.13241261,\n",
       "        1.        ],\n",
       "       [1.        , 1.        , 1.        , ..., 0.92975578, 0.92975578,\n",
       "        1.        ],\n",
       "       [1.        , 1.        , 1.        , ..., 0.91055382, 0.91055382,\n",
       "        1.        ],\n",
       "       ...,\n",
       "       [1.        , 0.        , 0.        , ..., 0.04886354, 0.04886354,\n",
       "        1.        ],\n",
       "       [1.        , 1.        , 1.        , ..., 0.58441163, 0.58441163,\n",
       "        1.        ],\n",
       "       [0.        , 0.        , 0.        , ..., 0.03210449, 0.03210449,\n",
       "        1.        ]])"
      ]
     },
     "execution_count": 5,
     "metadata": {},
     "output_type": "execute_result"
    }
   ],
   "source": [
    "X_train"
   ]
  },
  {
   "cell_type": "code",
   "execution_count": 4,
   "metadata": {},
   "outputs": [],
   "source": [
    "def compute_square_loss(X, y, theta):\n",
    "    \"\"\"\n",
    "    Given a set of X, y, theta, compute the average square loss for predicting y with X*theta.\n",
    "\n",
    "    Args:\n",
    "        X - the feature vector, 2D numpy array of size (num_instances, num_features)\n",
    "        y - the label vector, 1D numpy array of size (num_instances)\n",
    "        theta - the parameter vector, 1D array of size (num_features)\n",
    "\n",
    "    Returns:\n",
    "        loss - the average square loss, scalar\n",
    "    \"\"\"\n",
    "    loss = 0 #Initialize the average square loss\n",
    "    #TODO\n",
    "    num_instances = X.shape[0]\n",
    "    preds=np.dot(X,theta)\n",
    "    loss = np.dot(preds-y,preds-y)/num_instances\n",
    "    return loss"
   ]
  },
  {
   "cell_type": "code",
   "execution_count": 5,
   "metadata": {},
   "outputs": [],
   "source": [
    "def compute_square_loss_gradient(X, y, theta):\n",
    "    \"\"\"\n",
    "    Compute the gradient of the average square loss (as defined in compute_square_loss), at the point theta.\n",
    "\n",
    "    Args:\n",
    "        X - the feature vector, 2D numpy array of size (num_instances, num_features)\n",
    "        y - the label vector, 1D numpy array of size (num_instances)\n",
    "        theta - the parameter vector, 1D numpy array of size (num_features)\n",
    "\n",
    "    Returns:\n",
    "        grad - gradient vector, 1D numpy array of size (num_features)\n",
    "    \"\"\"\n",
    "    #TODO\n",
    "    preds=np.dot(X,theta)\n",
    "    grad=2.0/(X.shape[0])*np.dot(preds-y, X)\n",
    "    return grad"
   ]
  },
  {
   "cell_type": "code",
   "execution_count": 72,
   "metadata": {},
   "outputs": [],
   "source": [
    "def grad_checker(X, y, theta, epsilon=0.01, tolerance=1e-4):\n",
    "    \"\"\"Implement Gradient Checker\n",
    "    Check that the function compute_square_loss_gradient returns the\n",
    "    correct gradient for the given X, y, and theta.\n",
    "\n",
    "    Let d be the number of features. Here we numerically estimate the\n",
    "    gradient by approximating the directional derivative in each of\n",
    "    the d coordinate directions:\n",
    "    (e_1 = (1,0,0,...,0), e_2 = (0,1,0,...,0), ..., e_d = (0,...,0,1))\n",
    "\n",
    "    The approximation for the directional derivative of J at the point\n",
    "    theta in the direction e_i is given by:\n",
    "    ( J(theta + epsilon * e_i) - J(theta - epsilon * e_i) ) / (2*epsilon).\n",
    "\n",
    "    We then look at the Euclidean distance between the gradient\n",
    "    computed using this approximation and the gradient computed by\n",
    "    compute_square_loss_gradient(X, y, theta).  If the Euclidean\n",
    "    distance exceeds tolerance, we say the gradient is incorrect.\n",
    "\n",
    "    Args:\n",
    "        X - the feature vector, 2D numpy array of size (num_instances, num_features)\n",
    "        y - the label vector, 1D numpy array of size (num_instances)\n",
    "        theta - the parameter vector, 1D numpy array of size (num_features)\n",
    "        epsilon - the epsilon used in approximation\n",
    "        tolerance - the tolerance error\n",
    "\n",
    "    Return:\n",
    "        A boolean value indicating whether the gradient is correct or not\n",
    "    \"\"\"\n",
    "    true_gradient = compute_square_loss_gradient(X, y, theta) #The true gradient\n",
    "    num_features = theta.shape[0]\n",
    "    approx_grad = np.zeros(num_features) #Initialize the gradient we approximate\n",
    "    #TODO\n",
    "    true_gradient = compute_square_loss_gradient(X, y, theta) #the true gradient\n",
    "    num_features = theta.shape[0]\n",
    "    approx_grad = np.zeros(num_features) #Initialize the gradient we approximate\n",
    "    for feature_pos in range(num_features):\n",
    "        e_i = np.zeros(num_features)\n",
    "        e_i[feature_pos]=1\n",
    "        theta_plus = theta + epsilon*e_i\n",
    "        theta_minus = theta - epsilon*e_i \n",
    "        approx_grad[feature_pos]=(compute_square_loss(X,y,theta_plus)-compute_square_loss(X,y,theta_minus))/(2*epsilon)\n",
    "        distance = np.linalg.norm(approx_grad-true_gradient)\n",
    "    return distance<tolerance"
   ]
  },
  {
   "cell_type": "code",
   "execution_count": 73,
   "metadata": {},
   "outputs": [],
   "source": [
    "def generic_gradient_checker(X, y, theta, objective_func, gradient_func, epsilon=0.01, tolerance=1e-4):\n",
    "    \"\"\"\n",
    "    The functions takes objective_func and gradient_func as parameters. \n",
    "    And check whether gradient_func(X, y, theta) returned the true \n",
    "    gradient for objective_func(X, y, theta).\n",
    "    Eg: In LSR, the objective_func = compute_square_loss, and gradient_func = compute_square_loss_gradient\n",
    "    \"\"\"\n",
    "    #TODO\n",
    "    true_gradient = gradient_func(X,y,theta)\n",
    "    num_features = theta.shape[0]\n",
    "    approx_grad = np.zeros(num_features)\n",
    "    for feature_pos in range(num_features):\n",
    "        e_i = np.zeros(num_features)\n",
    "        e_i[feature_pos]=1\n",
    "        theta_plus = theta + epsilon*e_i\n",
    "        theta_minus = theta - epsilon*e_i \n",
    "        approx_grad[feature_pos]=(ojective_func(X,y,theta_plus)-objective_func(X,y,theta_minus))/(2*epsilon)\n",
    "        distance = np.linalg.norm(approx_grad-true_gradient)\n",
    "    return distance<tolerance\n"
   ]
  },
  {
   "cell_type": "code",
   "execution_count": 7,
   "metadata": {},
   "outputs": [],
   "source": [
    "def batch_grad_descent(X, y, alpha, num_step, grad_check=False):\n",
    "    \"\"\"\n",
    "    In this question you will implement batch gradient descent to\n",
    "    minimize the average square loss objective.\n",
    "\n",
    "    Args:\n",
    "        X - the feature vector, 2D numpy array of size (num_instances, num_features)\n",
    "        y - the label vector, 1D numpy array of size (num_instances)\n",
    "        alpha - step size in gradient descent\n",
    "        num_step - number of steps to run\n",
    "        grad_check - a boolean value indicating whether checking the gradient when updating\n",
    "\n",
    "    Returns:\n",
    "        theta_hist - the history of parameter vector, 2D numpy array of size (num_step+1, num_features)\n",
    "                     for instance, theta in step 0 should be theta_hist[0], theta in step (num_step) is theta_hist[-1]\n",
    "        loss_hist - the history of average square loss on the data, 1D numpy array, (num_step+1)\n",
    "    \"\"\"\n",
    "    num_instances, num_features = X.shape[0], X.shape[1]\n",
    "    theta_hist = np.zeros((num_step+1, num_features)) #Initialize theta_hist\n",
    "    loss_hist = np.zeros(num_step+1) #Initialize loss_hist\n",
    "    theta = np.zeros(num_features) #Initialize theta\n",
    "    #TODO\n",
    "    i=0\n",
    "    while i < num_step+1:\n",
    "        theta_hist[i]=theta\n",
    "        loss_hist[i] = compute_square_loss(X, y, theta)\n",
    "        theta = theta - alpha*compute_square_loss_gradient(X, y, theta)\n",
    "        i=i+1\n",
    "    return theta_hist, loss_hist"
   ]
  },
  {
   "cell_type": "code",
   "execution_count": 8,
   "metadata": {},
   "outputs": [
    {
     "data": {
      "text/plain": [
       "array([[ 0.        ,  0.        ,  0.        , ...,  0.        ,\n",
       "         0.        ,  0.        ],\n",
       "       [-0.02518206,  0.01501509,  0.04050953, ...,  0.02888128,\n",
       "         0.02888128, -0.03697235],\n",
       "       [-0.17284539, -0.09259636, -0.04106484, ..., -0.02695581,\n",
       "        -0.02695581, -0.19635598],\n",
       "       ...,\n",
       "       [        nan,         nan,         nan, ...,         nan,\n",
       "                nan,         nan],\n",
       "       [        nan,         nan,         nan, ...,         nan,\n",
       "                nan,         nan],\n",
       "       [        nan,         nan,         nan, ...,         nan,\n",
       "                nan,         nan]])"
      ]
     },
     "execution_count": 8,
     "metadata": {},
     "output_type": "execute_result"
    }
   ],
   "source": [
    "batch_grad_descent(X_train, y_train, alpha=0.1, num_step=1000, grad_check=False)[0]"
   ]
  },
  {
   "cell_type": "code",
   "execution_count": 9,
   "metadata": {},
   "outputs": [],
   "source": [
    "theta_0,loss_0=batch_grad_descent(X_train, y_train, alpha=0.5, num_step=1000, grad_check=False)\n",
    "theta_1,loss_1=batch_grad_descent(X_train, y_train, alpha=0.1, num_step=1000, grad_check=False)\n",
    "theta_2,loss_2=batch_grad_descent(X_train, y_train, alpha=0.05, num_step=1000, grad_check=False)\n",
    "theta_3,loss_3=batch_grad_descent(X_train, y_train, alpha=0.01, num_step=1000, grad_check=False)"
   ]
  },
  {
   "cell_type": "code",
   "execution_count": 10,
   "metadata": {},
   "outputs": [
    {
     "data": {
      "text/plain": [
       "[<matplotlib.lines.Line2D at 0x1a1c8efac8>]"
      ]
     },
     "execution_count": 10,
     "metadata": {},
     "output_type": "execute_result"
    },
    {
     "data": {
      "image/png": "[encoded data removed]",
      "text/plain": [
       "<Figure size 432x288 with 1 Axes>"
      ]
     },
     "metadata": {
      "needs_background": "light"
     },
     "output_type": "display_data"
    }
   ],
   "source": [
    "#plt.plot(range(len(loss_0)),loss_0,label=\"alpha=0.5\")\n",
    "#plt.plot(range(len(loss_1)),loss_1,label=\"alpha=0.1\")\n",
    "plt.plot(range(len(loss_2)),loss_2,label=\"alpha=0.05\")\n",
    "plt.plot(range(len(loss_3)),loss_3,label=\"alpha=0.01\")"
   ]
  },
  {
   "cell_type": "code",
   "execution_count": 11,
   "metadata": {},
   "outputs": [],
   "source": [
    "def compute_regularized_square_loss_gradient(X, y, theta, lambda_reg):\n",
    "    \"\"\"\n",
    "    Compute the gradient of L2-regularized average square loss function given X, y and theta\n",
    "\n",
    "    Args:\n",
    "        X - the feature vector, 2D numpy array of size (num_instances, num_features)\n",
    "        y - the label vector, 1D numpy array of size (num_instances)\n",
    "        theta - the parameter vector, 1D numpy array of size (num_features)\n",
    "        lambda_reg - the regularization coefficient\n",
    "\n",
    "    Returns:\n",
    "        grad - gradient vector, 1D numpy array of size (num_features)\n",
    "    \"\"\"\n",
    "    #TODO\n",
    "    preds=np.dot(X,theta)\n",
    "    grad=2.0/(X.shape[0])*np.dot(preds-y, X)+2*lambda_reg*theta\n",
    "    return grad"
   ]
  },
  {
   "cell_type": "code",
   "execution_count": 12,
   "metadata": {},
   "outputs": [],
   "source": [
    "def regularized_grad_descent(X, y, alpha=0.05, lambda_reg=10**-2, num_step=1000):\n",
    "    \"\"\"\n",
    "    Args:\n",
    "        X - the feature vector, 2D numpy array of size (num_instances, num_features)\n",
    "        y - the label vector, 1D numpy array of size (num_instances)\n",
    "        alpha - step size in gradient descent\n",
    "        lambda_reg - the regularization coefficient\n",
    "        num_step - number of steps to run\n",
    "    \n",
    "    Returns:\n",
    "        theta_hist - the history of parameter vector, 2D numpy array of size (num_step+1, num_features)\n",
    "                     for instance, theta in step 0 should be theta_hist[0], theta in step (num_step+1) is theta_hist[-1]\n",
    "        loss hist - the history of average square loss function without the regularization term, 1D numpy array.\n",
    "    \"\"\"\n",
    "    num_instances, num_features = X.shape[0], X.shape[1]\n",
    "    theta = np.zeros(num_features) #Initialize theta\n",
    "    theta_hist = np.zeros((num_step+1, num_features)) #Initialize theta_hist\n",
    "    loss_hist = np.zeros(num_step+1) #Initialize loss_hist\n",
    "    #TODO\n",
    "    i=0\n",
    "    while i < num_step+1:\n",
    "        theta_hist[i]=theta\n",
    "        loss_hist[i] = compute_square_loss(X, y, theta)\n",
    "        theta = theta - alpha*compute_regularized_square_loss_gradient(X, y, theta, lambda_reg)\n",
    "        i=i+1\n",
    "    return theta_hist, loss_hist"
   ]
  },
  {
   "cell_type": "code",
   "execution_count": 19,
   "metadata": {},
   "outputs": [
    {
     "data": {
      "image/png": "[encoded data removed]",
      "text/plain": [
       "<Figure size 432x288 with 1 Axes>"
      ]
     },
     "metadata": {
      "needs_background": "light"
     },
     "output_type": "display_data"
    }
   ],
   "source": [
    "for lambda_reg in [1e-7,1e-5,1e-3,1e-1]:\n",
    "    theta_hist,loss_hist= regularized_grad_descent(X_train,y_train,alpha=0.05,lambda_reg=lambda_reg)\n",
    "    plt.plot(range(len(loss_hist)),np.log(loss_hist),label='lambda:'+str(lambda_reg))\n",
    "    plt.xlabel(\"step\")\n",
    "plt.ylabel(\"log(sqaure loss)\")\n",
    "plt.legend()\n",
    "plt.show()"
   ]
  },
  {
   "cell_type": "code",
   "execution_count": 26,
   "metadata": {},
   "outputs": [
    {
     "data": {
      "image/png": "[encoded data removed]",
      "text/plain": [
       "<Figure size 432x288 with 1 Axes>"
      ]
     },
     "metadata": {
      "needs_background": "light"
     },
     "output_type": "display_data"
    }
   ],
   "source": [
    "for lambda_reg in [1e-7,1e-5,1e-3,1e-2,1e-1]:\n",
    "    theta_hist,loss_hist= regularized_grad_descent(X_train,y_train,lambda_reg=lambda_reg)\n",
    "    loss_hist_test= [compute_square_loss(X_test,y_test,theta) for theta in theta_hist]\n",
    "    plt.plot(range(len(loss_hist)),np.log(loss_hist_test),label='lambda:'+str(lambda_reg))\n",
    "    plt.xlabel(\"step\")\n",
    "plt.ylabel(\"log(sqaure loss)\")\n",
    "plt.legend()\n",
    "plt.show()"
   ]
  },
  {
   "cell_type": "code",
   "execution_count": 115,
   "metadata": {},
   "outputs": [],
   "source": [
    "def stochastic_grad_descent(X, y, alpha=0.01, lambda_reg=10**-2, num_epoch=1000, batch_size=1):\n",
    "    \"\"\"\n",
    "    In this question you will implement stochastic gradient descent with regularization term\n",
    "\n",
    "    Args:\n",
    "        X - the feature vector, 2D numpy array of size (num_instances, num_features)\n",
    "        y - the label vector, 1D numpy array of size (num_instances)\n",
    "        alpha - string or float, step size in gradient descent\n",
    "                NOTE: In SGD, it's not a good idea to use a fixed step size. \n",
    "                Usually it's set to 1/sqrt(t) or 1/t\n",
    "                if alpha is a float, then the step size in every step is the float.\n",
    "                if alpha == \"1/sqrt(t)\", alpha = 1/sqrt(t).\n",
    "                if alpha == \"1/t\", alpha = 1/t.\n",
    "        lambda_reg - the regularization coefficient\n",
    "        num_epoch - number of epochs to go through the whole training set\n",
    "\n",
    "    Returns:\n",
    "        theta_hist - the history of parameter vector, 3D numpy array of size (num_epoch, \n",
    "        num_instances, num_features)\n",
    "                     for instance, theta in epoch 0 should be theta_hist[0], \n",
    "                     theta in epoch (num_epoch) is theta_hist[-1]\n",
    "        loss hist - the history of loss function vector, 2D numpy array of size (num_epoch,\n",
    "        num_instances)\n",
    "    \"\"\"\n",
    "    num_instances, num_features = X.shape[0], X.shape[1]\n",
    "    theta = np.ones(num_features) #Initialize theta\n",
    "\n",
    "    theta_hist = np.zeros((num_epoch, num_instances, num_features)) #Initialize theta_hist\n",
    "    loss_hist = np.zeros((num_epoch, num_instances)) #Initialize loss_hist\n",
    "    #TODO\n",
    "    num_step = num_epoch*num_instances\n",
    "    step_size = alpha\n",
    "#     if alpha=='1/sqrt(t)':\n",
    "#             step_size = 1.0/np.sqrt((i+1.0))\n",
    "#         elif alpha=='1/t':\n",
    "#             step_size = 1.0/(i+1.0)\n",
    "#         else:\n",
    "#             step_size = alpha\n",
    "    t=0\n",
    "    while t < num_step+1:\n",
    "        for j in range(num_epoch):\n",
    "            for i in range(num_instances):\n",
    "                X[i] = X[i].reshape(1, X.shape[1])\n",
    "                y[i] = y[i].reshape(1,1)\n",
    "                theta_hist[j][i]= theta\n",
    "                loss_hist[j][i] = compute_square_loss(X[i], y[i], theta)\n",
    "                theta = theta - alpha*compute_regularized_square_loss_gradient(X[i], y[i], theta, lambda_reg)\n",
    "        t=t+1\n",
    "    return theta_hist, loss_hist"
   ]
  },
  {
   "cell_type": "code",
   "execution_count": null,
   "metadata": {},
   "outputs": [],
   "source": [
    "h=stochastic_grad_descent(X_train, y_train, alpha=0.1, lambda_reg=1, num_epoch=1000)"
   ]
  },
  {
   "cell_type": "code",
   "execution_count": null,
   "metadata": {},
   "outputs": [],
   "source": [
    "h[0]"
   ]
  },
  {
   "cell_type": "code",
   "execution_count": null,
   "metadata": {},
   "outputs": [],
   "source": []
  }
 ],
 "metadata": {
  "kernelspec": {
   "display_name": "Python 3",
   "language": "python",
   "name": "python3"
  },
  "language_info": {
   "codemirror_mode": {
    "name": "ipython",
    "version": 3
   },
   "file_extension": ".py",
   "mimetype": "text/x-python",
   "name": "python",
   "nbconvert_exporter": "python",
   "pygments_lexer": "ipython3",
   "version": "3.7.2"
  }
 },
 "nbformat": 4,
 "nbformat_minor": 2
}
